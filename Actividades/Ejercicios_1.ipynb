{
  "nbformat": 4,
  "nbformat_minor": 0,
  "metadata": {
    "colab": {
      "provenance": [],
      "authorship_tag": "ABX9TyP7REO2nM/BrvZJjY47u+Qs",
      "include_colab_link": true
    },
    "kernelspec": {
      "name": "python3",
      "display_name": "Python 3"
    },
    "language_info": {
      "name": "python"
    }
  },
  "cells": [
    {
      "cell_type": "markdown",
      "metadata": {
        "id": "view-in-github",
        "colab_type": "text"
      },
      "source": [
        "<a href=\"https://colab.research.google.com/github/IsraelVS7/IA_RN/blob/main/Ejercicios_1.ipynb\" target=\"_parent\"><img src=\"https://colab.research.google.com/assets/colab-badge.svg\" alt=\"Open In Colab\"/></a>"
      ]
    },
    {
      "cell_type": "code",
      "execution_count": null,
      "metadata": {
        "colab": {
          "base_uri": "https://localhost:8080/"
        },
        "id": "vZCyW2g-oJjp",
        "outputId": "89bbe462-1410-473a-b77e-b1b593500725"
      },
      "outputs": [
        {
          "output_type": "stream",
          "name": "stdout",
          "text": [
            "Ingrese dos numeros para computar su suma\n",
            "02\n",
            "03\n",
            "La suma de los dos numeros es:\n",
            "5\n"
          ]
        }
      ],
      "source": [
        "# Ejercicio 1; Que pueda computar la suma de dos numeros\n",
        "print(\"Ingrese dos numeros para computar su suma\")\n",
        "x=input(int())\n",
        "y=input(int())\n",
        "print (\"La suma de los dos numeros es:\")\n",
        "print (int(x)+int(y))\n"
      ]
    },
    {
      "cell_type": "code",
      "source": [
        "# Ejercicio 2; desarolle un algoritmo que calcule el factorial de un numero\n",
        "#ingresado\n",
        "\n",
        "import math\n",
        "\n",
        "print(\"Ingrese un número para calcular su factorial:\")\n",
        "fac = int(input())\n",
        "\n",
        "fact = math.factorial(fac)\n",
        "print(fact)\n",
        "\n",
        "\n"
      ],
      "metadata": {
        "colab": {
          "base_uri": "https://localhost:8080/"
        },
        "id": "XzX_h3fPrYYZ",
        "outputId": "0b2fc96c-12e8-4f39-c3e1-f6881931b5b5"
      },
      "execution_count": null,
      "outputs": [
        {
          "output_type": "stream",
          "name": "stdout",
          "text": [
            "Ingrese un número para calcular su factorial:\n",
            "3\n",
            "6\n"
          ]
        }
      ]
    },
    {
      "cell_type": "code",
      "source": [
        "# Ejercicio 3: Desarrolle un programa el cual  que tome una lista de números\n",
        "# número objetivo, y muestre la posición (índice) en la que se\n",
        "# encuentra el número objetivo en la lista.\n",
        "\n",
        "\n",
        "print(\"ingrese una lista de numeros separados por comas\")\n",
        "lista = input([]).split(\",\")\n",
        "\n",
        "print(\"Ingrese el dato el cual quiera saber su posicion\")\n",
        "dato=int(input())\n",
        "\n",
        "if str(dato) in lista:\n",
        "    posicion = lista.index(str(dato))\n",
        "    print(\"El dato\", dato, \"se encuentra en la posición\", posicion)\n",
        "else:\n",
        "    print(\"El dato\", dato, \"no se encuentra en la lista.\")"
      ],
      "metadata": {
        "colab": {
          "base_uri": "https://localhost:8080/"
        },
        "id": "0pbcgX-xZw9O",
        "outputId": "08b7460b-e27a-47e8-b6cd-21041089893b"
      },
      "execution_count": null,
      "outputs": [
        {
          "output_type": "stream",
          "name": "stdout",
          "text": [
            "ingrese una lista de numeros separados por comas\n",
            "[]1,3,4,5,6,23\n",
            "Ingrese el dato el cual quiera saber su posicion\n",
            "23\n",
            "El dato 23 se encuentra en la posición 5\n"
          ]
        }
      ]
    },
    {
      "cell_type": "code",
      "source": [
        "##Ejercicio 4 Palindromo\n",
        "\n",
        "#definir variable\n",
        "def es_palindromo(cadena):\n",
        "    cadena = cadena.replace(\" \", \"\").lower()\n",
        "\n",
        "    #verificar si es palíndromo\n",
        "    if cadena == cadena[::-1]:\n",
        "        return True\n",
        "    else:\n",
        "        return False\n",
        "\n",
        "#pedir una palabra al usuario\n",
        "texto = input(\"Ingrese un texto: \")\n",
        "if es_palindromo(texto):\n",
        "    print(\"Es un palíndromo\")\n",
        "else:\n",
        "    print(\"No es un palíndromo\")"
      ],
      "metadata": {
        "colab": {
          "base_uri": "https://localhost:8080/"
        },
        "id": "pgka2TzKcn3L",
        "outputId": "4619d7bc-927a-4644-dda7-9615bd4c61f8"
      },
      "execution_count": 2,
      "outputs": [
        {
          "output_type": "stream",
          "name": "stdout",
          "text": [
            "Ingrese un texto: anita lava la tina\n",
            "Es un palíndromo\n"
          ]
        }
      ]
    }
  ]
}
